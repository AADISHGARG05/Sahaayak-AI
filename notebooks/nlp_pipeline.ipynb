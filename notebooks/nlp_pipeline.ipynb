{
 "cells": [
  {
   "cell_type": "code",
   "execution_count": 1,
   "id": "84fd485e",
   "metadata": {},
   "outputs": [],
   "source": [
    "from langdetect import detect\n",
    "from deep_translator import GoogleTranslator"
   ]
  },
  {
   "cell_type": "code",
   "execution_count": 2,
   "id": "d5142f9d",
   "metadata": {},
   "outputs": [],
   "source": [
    "def detect_language(text: str) -> str:\n",
    "    try:\n",
    "        lang = detect(text)\n",
    "        return lang\n",
    "    except:\n",
    "        return \"en\"  # fallback"
   ]
  },
  {
   "cell_type": "code",
   "execution_count": 3,
   "id": "f90dd7d8",
   "metadata": {},
   "outputs": [],
   "source": [
    "def translate_to_english(text: str, source_lang: str) -> str:\n",
    "    if source_lang == \"en\":\n",
    "        return text\n",
    "    try:\n",
    "        translated = GoogleTranslator(source=source_lang, target=\"en\").translate(text)\n",
    "        return translated\n",
    "    except Exception as e:\n",
    "        print(f\"Translation failed: {e}\")\n",
    "        return text  # fallback"
   ]
  },
  {
   "cell_type": "code",
   "execution_count": 4,
   "id": "ad68cd74",
   "metadata": {},
   "outputs": [],
   "source": [
    "def translate_to_original(text: str, target_lang: str) -> str:\n",
    "    if target_lang == \"en\":\n",
    "        return text\n",
    "    try:\n",
    "        translated = GoogleTranslator(source=\"en\", target=target_lang).translate(text)\n",
    "        return translated\n",
    "    except Exception as e:\n",
    "        print(f\"Reverse translation failed: {e}\")\n",
    "        return text"
   ]
  },
  {
   "cell_type": "code",
   "execution_count": null,
   "id": "86ed128d",
   "metadata": {},
   "outputs": [],
   "source": [
    "from app.nlp_pipeline import detect_language, translate_to_english\n",
    "\n",
    "sample = \"मुझे डॉक्टर की ज़रूरत है\"\n",
    "lang = detect_language(sample)\n",
    "print(f\"Detected language: {lang}\")\n",
    "\n",
    "translated = translate_to_english(sample, lang)\n",
    "print(f\"Translated: {translated}\")"
   ]
  }
 ],
 "metadata": {
  "kernelspec": {
   "display_name": "Python (myenv)",
   "language": "python",
   "name": "myenv"
  },
  "language_info": {
   "codemirror_mode": {
    "name": "ipython",
    "version": 3
   },
   "file_extension": ".py",
   "mimetype": "text/x-python",
   "name": "python",
   "nbconvert_exporter": "python",
   "pygments_lexer": "ipython3",
   "version": "3.12.10"
  }
 },
 "nbformat": 4,
 "nbformat_minor": 5
}
